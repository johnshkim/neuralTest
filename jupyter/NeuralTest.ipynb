{
 "cells": [
  {
   "cell_type": "code",
   "execution_count": 204,
   "metadata": {},
   "outputs": [],
   "source": [
    "import os\n",
    "import shutil\n",
    "import keras\n",
    "import numpy as np\n",
    "import tensorflow\n",
    "import csv\n",
    "import matplotlib.pyplot as plt\n",
    "from keras import layers\n",
    "from keras import models\n",
    "import pandas as pd\n",
    "from keras import optimizers\n",
    "from keras.preprocessing.image import ImageDataGenerator"
   ]
  },
  {
   "cell_type": "code",
   "execution_count": 205,
   "metadata": {},
   "outputs": [],
   "source": [
    "#dataset- directory original dt\n",
    "original_dataset_dir = 'C:/Users/jshk/NeuralTest/train/train'\n",
    "#train label\n",
    "original_label_dir = 'C:/Users/jshk/NeuralTest/train/train.truth.csv'\n",
    "# test data\n",
    "teste_dir ='C:/Users/jshk/NeuralTest/test/test'\n",
    "base_dir ='C:/Users/jshk/Test/small'"
   ]
  },
  {
   "cell_type": "code",
   "execution_count": 206,
   "metadata": {},
   "outputs": [],
   "source": [
    "validation_dir = os.path.join(base_dir, 'validation')\n",
    "#os.mkdir(validation_dir)\n",
    "test_dir = os.path.join(base_dir, 'test')\n",
    "#os.mkdir(test_dir)\n",
    "validation_faces_dir = os.path.join(validation_dir, 'faces')\n",
    "test_faces_dir = os.path.join(test_dir, 'faces')"
   ]
  },
  {
   "cell_type": "code",
   "execution_count": 207,
   "metadata": {},
   "outputs": [],
   "source": [
    "x_train = os.path.join(original_dataset_dir)\n",
    "df = pd.read_csv(original_label_dir)\n",
    "df[\"label\"] = df[\"label\"].apply(lambda x:x.split(\",\"))\n",
    "x_test = os.path.join(teste_dir)"
   ]
  },
  {
   "cell_type": "code",
   "execution_count": 208,
   "metadata": {},
   "outputs": [
    {
     "data": {
      "text/plain": [
       "0         [rotated_left]\n",
       "1         [rotated_left]\n",
       "2              [upright]\n",
       "3        [rotated_right]\n",
       "4          [upside_down]\n",
       "5         [rotated_left]\n",
       "6         [rotated_left]\n",
       "7         [rotated_left]\n",
       "8          [upside_down]\n",
       "9              [upright]\n",
       "10         [upside_down]\n",
       "11        [rotated_left]\n",
       "12         [upside_down]\n",
       "13       [rotated_right]\n",
       "14        [rotated_left]\n",
       "15             [upright]\n",
       "16         [upside_down]\n",
       "17         [upside_down]\n",
       "18         [upside_down]\n",
       "19        [rotated_left]\n",
       "20       [rotated_right]\n",
       "21        [rotated_left]\n",
       "22        [rotated_left]\n",
       "23             [upright]\n",
       "24       [rotated_right]\n",
       "25             [upright]\n",
       "26         [upside_down]\n",
       "27        [rotated_left]\n",
       "28         [upside_down]\n",
       "29             [upright]\n",
       "              ...       \n",
       "48866          [upright]\n",
       "48867     [rotated_left]\n",
       "48868    [rotated_right]\n",
       "48869    [rotated_right]\n",
       "48870    [rotated_right]\n",
       "48871    [rotated_right]\n",
       "48872          [upright]\n",
       "48873      [upside_down]\n",
       "48874    [rotated_right]\n",
       "48875      [upside_down]\n",
       "48876     [rotated_left]\n",
       "48877          [upright]\n",
       "48878          [upright]\n",
       "48879    [rotated_right]\n",
       "48880    [rotated_right]\n",
       "48881     [rotated_left]\n",
       "48882          [upright]\n",
       "48883    [rotated_right]\n",
       "48884    [rotated_right]\n",
       "48885    [rotated_right]\n",
       "48886      [upside_down]\n",
       "48887      [upside_down]\n",
       "48888    [rotated_right]\n",
       "48889          [upright]\n",
       "48890    [rotated_right]\n",
       "48891          [upright]\n",
       "48892     [rotated_left]\n",
       "48893     [rotated_left]\n",
       "48894     [rotated_left]\n",
       "48895    [rotated_right]\n",
       "Name: label, Length: 48896, dtype: object"
      ]
     },
     "execution_count": 208,
     "metadata": {},
     "output_type": "execute_result"
    }
   ],
   "source": [
    "y_train = df[\"label\"]\n",
    "y_train"
   ]
  },
  {
   "cell_type": "code",
   "execution_count": 235,
   "metadata": {},
   "outputs": [],
   "source": [
    "datagen=ImageDataGenerator(rescale=1./255.)\n",
    "test_datagen=ImageDataGenerator(rescale=1./255.)"
   ]
  },
  {
   "cell_type": "code",
   "execution_count": 236,
   "metadata": {},
   "outputs": [
    {
     "name": "stdout",
     "output_type": "stream",
     "text": [
      "Found 40000 validated image filenames belonging to 4 classes.\n"
     ]
    }
   ],
   "source": [
    "train_generator=datagen.flow_from_dataframe(\n",
    "    dataframe=df[:40000],\n",
    "    directory=x_train,\n",
    "    x_col=\"fn\",\n",
    "    y_col=\"label\",\n",
    "    batch_size=32,\n",
    "    seed=42,\n",
    "    shuffle=True,\n",
    "    class_mode=\"categorical\",\n",
    "    classes=[\"upright\", \"rotated_left\", \"rotated_right\", \"upside_down\"],\n",
    "    target_size=(255,255))"
   ]
  },
  {
   "cell_type": "code",
   "execution_count": 237,
   "metadata": {},
   "outputs": [
    {
     "name": "stdout",
     "output_type": "stream",
     "text": [
      "Found 2500 images belonging to 1 classes.\n"
     ]
    }
   ],
   "source": [
    "valid_generator=test_datagen.flow_from_directory(\n",
    "    validation_dir,\n",
    "    batch_size=32,\n",
    "    class_mode=\"binary\",\n",
    "    target_size=(255,255))"
   ]
  },
  {
   "cell_type": "code",
   "execution_count": 239,
   "metadata": {},
   "outputs": [
    {
     "name": "stdout",
     "output_type": "stream",
     "text": [
      "Found 0 validated image filenames.\n"
     ]
    },
    {
     "name": "stderr",
     "output_type": "stream",
     "text": [
      "C:\\ProgramData\\Anaconda3\\lib\\site-packages\\keras_preprocessing\\image\\dataframe_iterator.py:211: UserWarning: `classes` will be ignored given the class_mode=\"None\"\n",
      "  .format(self.class_mode))\n",
      "C:\\ProgramData\\Anaconda3\\lib\\site-packages\\keras_preprocessing\\image\\dataframe_iterator.py:273: UserWarning: Found 5000 invalid image filename(s) in x_col=\"fn\". These filename(s) will be ignored.\n",
      "  .format(n_invalid, x_col)\n"
     ]
    }
   ],
   "source": [
    "#test_generator = test_datagen.flow_from_directory(\n",
    "#    test_dir,\n",
    "#    target_size=(255, 255),\n",
    "#    batch_size=32,\n",
    "#    class_mode='binary')\n",
    "test_generator=test_datagen.flow_from_dataframe(\n",
    "    dataframe=df[:5000],\n",
    "    directory=x_test,\n",
    "    x_col=\"fn\",\n",
    "    batch_size=1,\n",
    "    seed=42,\n",
    "    shuffle=False,\n",
    "    class_mode=None,\n",
    "    classes=[\"upright\", \"rotated_left\", \"rotated_right\", \"upside_down\"],\n",
    "    target_size=(100,100))"
   ]
  },
  {
   "cell_type": "code",
   "execution_count": 247,
   "metadata": {},
   "outputs": [
    {
     "name": "stdout",
     "output_type": "stream",
     "text": [
      "data batch shape: (32, 255, 255, 3)\n",
      "labels batch shape: (32, 4)\n"
     ]
    }
   ],
   "source": [
    "for data_batch, labels_batch in train_generator:\n",
    "     print('data batch shape:', data_batch.shape)\n",
    "     print('labels batch shape:', labels_batch.shape)\n",
    "     break"
   ]
  },
  {
   "cell_type": "code",
   "execution_count": 248,
   "metadata": {},
   "outputs": [],
   "source": [
    "model = models.Sequential()\n",
    "model.add(layers.Conv2D(32, (3, 3), activation='relu',\n",
    "input_shape=(255, 255, 3)))"
   ]
  },
  {
   "cell_type": "code",
   "execution_count": 249,
   "metadata": {},
   "outputs": [],
   "source": [
    "model.add(layers.MaxPooling2D((4, 4)))\n",
    "model.add(layers.Conv2D(32, (3, 3), activation='relu'))\n",
    "\n",
    "model.add(layers.MaxPooling2D((2, 2)))\n",
    "model.add(layers.Conv2D(128, (3, 3), activation='relu'))\n",
    "\n",
    "model.add(layers.MaxPooling2D((2, 2)))\n",
    "model.add(layers.Conv2D(128, (3, 3), activation='relu'))\n",
    "\n",
    "model.add(layers.MaxPooling2D((2, 2)))\n",
    "model.add(layers.Flatten())\n",
    "model.add(layers.Dense(16, activation='relu'))\n",
    "model.add(layers.Dense(4, activation='sigmoid'))"
   ]
  },
  {
   "cell_type": "code",
   "execution_count": 250,
   "metadata": {},
   "outputs": [
    {
     "name": "stdout",
     "output_type": "stream",
     "text": [
      "_________________________________________________________________\n",
      "Layer (type)                 Output Shape              Param #   \n",
      "=================================================================\n",
      "conv2d_53 (Conv2D)           (None, 253, 253, 32)      896       \n",
      "_________________________________________________________________\n",
      "max_pooling2d_57 (MaxPooling (None, 63, 63, 32)        0         \n",
      "_________________________________________________________________\n",
      "conv2d_54 (Conv2D)           (None, 61, 61, 32)        9248      \n",
      "_________________________________________________________________\n",
      "max_pooling2d_58 (MaxPooling (None, 30, 30, 32)        0         \n",
      "_________________________________________________________________\n",
      "conv2d_55 (Conv2D)           (None, 28, 28, 128)       36992     \n",
      "_________________________________________________________________\n",
      "max_pooling2d_59 (MaxPooling (None, 14, 14, 128)       0         \n",
      "_________________________________________________________________\n",
      "conv2d_56 (Conv2D)           (None, 12, 12, 128)       147584    \n",
      "_________________________________________________________________\n",
      "max_pooling2d_60 (MaxPooling (None, 6, 6, 128)         0         \n",
      "_________________________________________________________________\n",
      "flatten_14 (Flatten)         (None, 4608)              0         \n",
      "_________________________________________________________________\n",
      "dense_27 (Dense)             (None, 16)                73744     \n",
      "_________________________________________________________________\n",
      "dense_28 (Dense)             (None, 4)                 68        \n",
      "=================================================================\n",
      "Total params: 268,532\n",
      "Trainable params: 268,532\n",
      "Non-trainable params: 0\n",
      "_________________________________________________________________\n"
     ]
    }
   ],
   "source": [
    "model.summary()"
   ]
  },
  {
   "cell_type": "code",
   "execution_count": 251,
   "metadata": {},
   "outputs": [],
   "source": [
    "model.compile(loss='binary_crossentropy',\n",
    "optimizer=optimizers.RMSprop(lr=0.0001, decay=1e-6),\n",
    "metrics=['accuracy', 'binary_crossentropy'])"
   ]
  },
  {
   "cell_type": "code",
   "execution_count": 252,
   "metadata": {},
   "outputs": [
    {
     "name": "stdout",
     "output_type": "stream",
     "text": [
      "Epoch 1/30\n",
      "100/100 [==============================] - 40s 397ms/step - loss: 0.5672 - acc: 0.7480 - binary_crossentropy: 0.5672\n",
      "Epoch 2/30\n",
      "100/100 [==============================] - 39s 394ms/step - loss: 0.5328 - acc: 0.7520 - binary_crossentropy: 0.5328\n",
      "Epoch 3/30\n",
      "100/100 [==============================] - 40s 395ms/step - loss: 0.4508 - acc: 0.7972 - binary_crossentropy: 0.4508\n",
      "Epoch 4/30\n",
      "100/100 [==============================] - 39s 392ms/step - loss: 0.3809 - acc: 0.8360 - binary_crossentropy: 0.3809\n",
      "Epoch 5/30\n",
      "100/100 [==============================] - 39s 392ms/step - loss: 0.3244 - acc: 0.8662 - binary_crossentropy: 0.3244\n",
      "Epoch 6/30\n",
      "100/100 [==============================] - 39s 393ms/step - loss: 0.2856 - acc: 0.8864 - binary_crossentropy: 0.2856\n",
      "Epoch 7/30\n",
      "100/100 [==============================] - 39s 394ms/step - loss: 0.2594 - acc: 0.8945 - binary_crossentropy: 0.2594\n",
      "Epoch 8/30\n",
      "100/100 [==============================] - 39s 393ms/step - loss: 0.2296 - acc: 0.9097 - binary_crossentropy: 0.2296\n",
      "Epoch 9/30\n",
      "100/100 [==============================] - 40s 396ms/step - loss: 0.2045 - acc: 0.9211 - binary_crossentropy: 0.2045\n",
      "Epoch 10/30\n",
      "100/100 [==============================] - 40s 396ms/step - loss: 0.1993 - acc: 0.9228 - binary_crossentropy: 0.1993\n",
      "Epoch 11/30\n",
      "100/100 [==============================] - 40s 403ms/step - loss: 0.1845 - acc: 0.9277 - binary_crossentropy: 0.1845\n",
      "Epoch 12/30\n",
      "100/100 [==============================] - 41s 407ms/step - loss: 0.1715 - acc: 0.9336 - binary_crossentropy: 0.1715\n",
      "Epoch 13/30\n",
      "100/100 [==============================] - 41s 413ms/step - loss: 0.1615 - acc: 0.9393 - binary_crossentropy: 0.1615\n",
      "Epoch 14/30\n",
      "100/100 [==============================] - 39s 395ms/step - loss: 0.1508 - acc: 0.9426 - binary_crossentropy: 0.1508\n",
      "Epoch 15/30\n",
      "100/100 [==============================] - 41s 412ms/step - loss: 0.1499 - acc: 0.9423 - binary_crossentropy: 0.1499\n",
      "Epoch 16/30\n",
      "100/100 [==============================] - 40s 400ms/step - loss: 0.1433 - acc: 0.9452 - binary_crossentropy: 0.1433\n",
      "Epoch 17/30\n",
      "100/100 [==============================] - 40s 399ms/step - loss: 0.1338 - acc: 0.9480 - binary_crossentropy: 0.1338\n",
      "Epoch 18/30\n",
      "100/100 [==============================] - 39s 392ms/step - loss: 0.1292 - acc: 0.9521 - binary_crossentropy: 0.1292\n",
      "Epoch 19/30\n",
      "100/100 [==============================] - 41s 406ms/step - loss: 0.1265 - acc: 0.9503 - binary_crossentropy: 0.1265\n",
      "Epoch 20/30\n",
      "100/100 [==============================] - 40s 397ms/step - loss: 0.1186 - acc: 0.9559 - binary_crossentropy: 0.1186\n",
      "Epoch 21/30\n",
      "100/100 [==============================] - 40s 400ms/step - loss: 0.1215 - acc: 0.9527 - binary_crossentropy: 0.1215\n",
      "Epoch 22/30\n",
      "100/100 [==============================] - 40s 403ms/step - loss: 0.1210 - acc: 0.9551 - binary_crossentropy: 0.1210\n",
      "Epoch 23/30\n",
      "100/100 [==============================] - 40s 403ms/step - loss: 0.1087 - acc: 0.9594 - binary_crossentropy: 0.1087\n",
      "Epoch 24/30\n",
      "100/100 [==============================] - 41s 412ms/step - loss: 0.1121 - acc: 0.9587 - binary_crossentropy: 0.1121\n",
      "Epoch 25/30\n",
      "100/100 [==============================] - 40s 401ms/step - loss: 0.1163 - acc: 0.9545 - binary_crossentropy: 0.1163\n",
      "Epoch 26/30\n",
      "100/100 [==============================] - 40s 399ms/step - loss: 0.0944 - acc: 0.9652 - binary_crossentropy: 0.0944\n",
      "Epoch 27/30\n",
      "100/100 [==============================] - 40s 399ms/step - loss: 0.0943 - acc: 0.9647 - binary_crossentropy: 0.0943\n",
      "Epoch 28/30\n",
      "100/100 [==============================] - 40s 403ms/step - loss: 0.1061 - acc: 0.9587 - binary_crossentropy: 0.1061\n",
      "Epoch 29/30\n",
      "100/100 [==============================] - 41s 409ms/step - loss: 0.0988 - acc: 0.9641 - binary_crossentropy: 0.0988\n",
      "Epoch 30/30\n",
      "100/100 [==============================] - 40s 398ms/step - loss: 0.0885 - acc: 0.9666 - binary_crossentropy: 0.0885\n"
     ]
    }
   ],
   "source": [
    "history = model.fit_generator(\n",
    "train_generator,\n",
    "steps_per_epoch=100,\n",
    "epochs=30,\n",
    "validation_data=test_generator,\n",
    "validation_steps=50)"
   ]
  },
  {
   "cell_type": "code",
   "execution_count": 253,
   "metadata": {},
   "outputs": [],
   "source": [
    "model.save('neuralTest.h5')"
   ]
  },
  {
   "cell_type": "code",
   "execution_count": 259,
   "metadata": {},
   "outputs": [
    {
     "name": "stdout",
     "output_type": "stream",
     "text": [
      "Saved trained model at C:\\Users\\jshk\\Test\\model_save\\model_save \n"
     ]
    }
   ],
   "source": [
    "save_dir = os.path.join(os.getcwd(), 'model_save')\n",
    "os.path.isdir(save_dir)\n",
    "os.makedirs(save_dir)\n",
    "model_path = os.path.join(save_dir, 'model_save')\n",
    "model.save(model_path)\n",
    "print('Saved trained model at %s ' % model_path)"
   ]
  },
  {
   "cell_type": "code",
   "execution_count": null,
   "metadata": {},
   "outputs": [],
   "source": []
  }
 ],
 "metadata": {
  "kernelspec": {
   "display_name": "Python 3",
   "language": "python",
   "name": "python3"
  },
  "language_info": {
   "codemirror_mode": {
    "name": "ipython",
    "version": 3
   },
   "file_extension": ".py",
   "mimetype": "text/x-python",
   "name": "python",
   "nbconvert_exporter": "python",
   "pygments_lexer": "ipython3",
   "version": "3.7.3"
  }
 },
 "nbformat": 4,
 "nbformat_minor": 2
}
